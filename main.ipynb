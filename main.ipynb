{
  "nbformat": 4,
  "nbformat_minor": 0,
  "metadata": {
    "colab": {
      "provenance": []
    },
    "kernelspec": {
      "name": "python3",
      "display_name": "Python 3"
    },
    "language_info": {
      "name": "python"
    }
  },
  "cells": [
    {
      "cell_type": "markdown",
      "source": [
        "# Team info"
      ],
      "metadata": {
        "id": "A4n5wpcM3Xlq"
      }
    },
    {
      "cell_type": "markdown",
      "source": [
        "# Project info\n",
        "\n",
        "Develop a model to detect and classify breast cancer from histopathology images.\n",
        "\n",
        "goals and bla bla bla"
      ],
      "metadata": {
        "id": "SGFaadWN3snq"
      }
    },
    {
      "cell_type": "markdown",
      "source": [
        "### 0.1. Explanation of medical terms used"
      ],
      "metadata": {
        "id": "DKqliN0ThK8S"
      }
    },
    {
      "cell_type": "markdown",
      "source": [
        "## 1. Data exploration and Preprocessing"
      ],
      "metadata": {
        "id": "Eeuc-lgK3v3h"
      }
    },
    {
      "cell_type": "markdown",
      "source": [
        "### 1.1. Import Data and adjust paths (I suggest to work on Kaggle) [Andrea + Mattia]\n",
        "\n",
        "See kaggle notebook, this part it's just copy pasting"
      ],
      "metadata": {
        "id": "FIDfYumLfx6K"
      }
    },
    {
      "cell_type": "markdown",
      "source": [
        "### 1.2.1. Preprocessing [Andrea + Mattia]\n",
        "Clean data as input for next tasks.\n",
        "\n",
        "Feature engineering\n",
        "\n",
        "Hint: copy a dataset until now to give it to Asia for Visualization only (categorical variables can't be rappresented with further data engineering)\n",
        "\n",
        "After visualization, transform categorical variables in dummies\n",
        "\n",
        "Also map target feature into integer value\n",
        "\n",
        "Hint: Thi new df is usefull for modelling and for corr matrix"
      ],
      "metadata": {
        "id": "mBBEzwxj32s3"
      }
    },
    {
      "cell_type": "markdown",
      "source": [
        "### 1.3. EDA + Visualization [Asia]"
      ],
      "metadata": {
        "id": "H6FINL4rfvIi"
      }
    },
    {
      "cell_type": "markdown",
      "source": [
        "### 1.3.1. Hint: Use PCA on target variables to understand if they overlap and how well they separate to have a spoiler of how well our data can be labeled and how well our models can perform"
      ],
      "metadata": {
        "id": "keboOJPSgoiK"
      }
    },
    {
      "cell_type": "markdown",
      "source": [
        "Focus on distribution, using boxplot or histogram or whatever\n",
        "- plot any categorical variables\n",
        "- plot any numerical\n",
        "- plot target\n",
        "\n",
        "Focus on target var\n",
        "- how each feature may change given that it s labeled with a certain target feature\n",
        "- any statistical analysis usefull\n",
        "\n",
        "Focus on correlation\n",
        "- corr matrix seaborn\n",
        "\n",
        "More\n",
        "- others"
      ],
      "metadata": {
        "id": "3faZPV0Pkf9u"
      }
    },
    {
      "cell_type": "markdown",
      "source": [
        "### 1.4 Testing Class Imbalance Tecniques [idk]\n",
        "\n",
        "- F Beta Score with differents Beta Value\n",
        "- AUC\n",
        "- Confusion Matrix\n",
        "- others\n"
      ],
      "metadata": {
        "id": "_bq2iun3hfQ0"
      }
    },
    {
      "cell_type": "markdown",
      "source": [
        "## 2. Classification"
      ],
      "metadata": {
        "id": "YFU_4OTH3_jB"
      }
    },
    {
      "cell_type": "markdown",
      "source": [
        "### 2.0.0. Data preparation for modeling\n",
        "- Split\n",
        "- idk if we can do CV here, if we can we need to find best tecnique"
      ],
      "metadata": {
        "id": "TaBjqdNzmvW-"
      }
    },
    {
      "cell_type": "markdown",
      "source": [
        "### 2.0.1 Data Augmentation tecniques [Vika]\n",
        "\n",
        "Test on CNN architecture structure to balance a good trade off.\n",
        "A lot of Data Augmentation may cause overfitting, if possible use it to make the dataset bigger by giving more input to model idk.\n",
        "When u add more pay attention to dropout feature in CNN, a greater value (0.5 for instance) may overfit with more data augmentation tecniques"
      ],
      "metadata": {
        "id": "AP5XkRT8hzDz"
      }
    },
    {
      "cell_type": "markdown",
      "source": [
        "### 2.1. CNN [Vika]"
      ],
      "metadata": {
        "id": "jsObY5-r4ifv"
      }
    },
    {
      "cell_type": "markdown",
      "source": [
        "### 2.1.1. ?? Merging with more datas can give us better results?? [Vika]\n",
        " if u have time, merge dataset woth other similar datasets (see kaggle notebook) so u have greater input\n",
        "Check how same structure works on same test set when\n"
      ],
      "metadata": {
        "id": "Cu1WWygKlDN0"
      }
    },
    {
      "cell_type": "markdown",
      "source": [
        "### 2.2.1 Premade CNN 1 [Andrea]"
      ],
      "metadata": {
        "id": "RFCRZRyClNWz"
      }
    },
    {
      "cell_type": "markdown",
      "source": [
        "### 2.2.2 Premade CNN 2 [Mattia]"
      ],
      "metadata": {
        "id": "Q3UoUiY-lRoF"
      }
    },
    {
      "cell_type": "markdown",
      "source": [
        "### 2.3. Mergin unstructured and structured data (imgs + metadata)"
      ],
      "metadata": {
        "id": "ljuWxxOcgIgS"
      }
    },
    {
      "cell_type": "markdown",
      "source": [
        "### 2.4. Boosting Methods [Em]\n",
        "Do we have a lot of models? depends"
      ],
      "metadata": {
        "id": "lQ7kzQ9n4naM"
      }
    },
    {
      "cell_type": "markdown",
      "source": [
        "### 2.2.1. Embedding Methods [Em]\n",
        "- what the hell is that? Use more boosting methods together to achieve better results\n",
        "- as I get it is semi important. Nah"
      ],
      "metadata": {
        "id": "6A84nZnV4r0n"
      }
    },
    {
      "cell_type": "markdown",
      "source": [
        "## 3. Dimensionallity Reduction"
      ],
      "metadata": {
        "id": "smZHfUp9-L_2"
      }
    },
    {
      "cell_type": "markdown",
      "source": [
        "### 3.1. Principal Component Analysis (PCA) [Asia]\n",
        "\n",
        "Not needed, we may use autoencoders actually"
      ],
      "metadata": {
        "id": "jJu1oLSi-ghH"
      }
    },
    {
      "cell_type": "markdown",
      "source": [
        "### 3.2. t-Distributed Stochastic Neighbor Embedding [Vika]\n",
        "to check if we really need it\n",
        "It is computationally expensive usually, so not really worth it"
      ],
      "metadata": {
        "id": "QRUihcC0-sNX"
      }
    },
    {
      "cell_type": "markdown",
      "source": [
        "## 4. Evaluation"
      ],
      "metadata": {
        "id": "rIbu9Pwn44w6"
      }
    },
    {
      "cell_type": "markdown",
      "source": [
        "### 4.1. Performance Metrics [Asia]\n",
        "\n",
        "Compare all models used"
      ],
      "metadata": {
        "id": "LPYs2jXR8U0V"
      }
    },
    {
      "cell_type": "markdown",
      "source": [
        "## 5. Explainable AI (XAI) Techniques / Tunning [Ema]\n",
        "- Shap\n",
        "- Lime\n",
        "- Saliency Map\n",
        "\n",
        "Focus on how our model works and focus on missclassifed instances to understand why sometimes he get it wrong\n"
      ],
      "metadata": {
        "id": "gK4DwIyc8fgM"
      }
    },
    {
      "cell_type": "markdown",
      "source": [
        "### Bonus\n",
        "\n",
        "idk if it makes sense:\n",
        "\n",
        "Do u remember statistical problem in SDS where given a test with a certain probability of test result being real it calculate the real prob of having the disease with conditional probabilites ? Idk if we can do something similar here"
      ],
      "metadata": {
        "id": "rgdSTdDLi6qU"
      }
    },
    {
      "cell_type": "markdown",
      "source": [
        "# Results"
      ],
      "metadata": {
        "id": "OO2EEZubnyPR"
      }
    }
  ]
}